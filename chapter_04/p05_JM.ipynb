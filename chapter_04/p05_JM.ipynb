{
 "cells": [
  {
   "cell_type": "markdown",
   "metadata": {},
   "source": [
    "Validate BST: Implement a function to check if a binary tree is a binary search tree."
   ]
  },
  {
   "cell_type": "code",
   "execution_count": 12,
   "metadata": {},
   "outputs": [
    {
     "name": "stdout",
     "output_type": "stream",
     "text": [
      "\n",
      "    3__\n",
      "   /   \\\n",
      "  2     5\n",
      " /     / \\\n",
      "0     4   8\n",
      "\n",
      "\n",
      "  1\n",
      " / \\\n",
      "2   3\n",
      "\n"
     ]
    }
   ],
   "source": [
    "from binarytree import Node\n",
    "\n",
    "root_bst = Node(3)\n",
    "root_bst.left = Node(2)\n",
    "root_bst.right = Node(5)\n",
    "root_bst.left.left = Node(0)\n",
    "root_bst.right.left = Node(4)\n",
    "root_bst.right.right = Node(8)\n",
    "print(root_bst)\n",
    "\n",
    "root_bt = Node(1)\n",
    "root_bt.left = Node(2)\n",
    "root_bt.right = Node(3)\n",
    "print(root_bt)"
   ]
  },
  {
   "cell_type": "code",
   "execution_count": 19,
   "metadata": {},
   "outputs": [
    {
     "name": "stdout",
     "output_type": "stream",
     "text": [
      "node = Node(3), max_l = -inf, min_r = 4, is_valid = True\n"
     ]
    },
    {
     "ename": "AttributeError",
     "evalue": "'NoneType' object has no attribute 'value'",
     "output_type": "error",
     "traceback": [
      "\u001b[0;31m---------------------------------------------------------------------------\u001b[0m",
      "\u001b[0;31mAttributeError\u001b[0m                            Traceback (most recent call last)",
      "Cell \u001b[0;32mIn[19], line 57\u001b[0m\n\u001b[1;32m     54\u001b[0m             q\u001b[39m.\u001b[39mappend(node\u001b[39m.\u001b[39mright)\n\u001b[1;32m     55\u001b[0m     \u001b[39mreturn\u001b[39;00m \u001b[39mTrue\u001b[39;00m\n\u001b[0;32m---> 57\u001b[0m validate_BST(root_bst)\n",
      "Cell \u001b[0;32mIn[19], line 46\u001b[0m, in \u001b[0;36mvalidate_BST\u001b[0;34m(root)\u001b[0m\n\u001b[1;32m     44\u001b[0m \u001b[39mwhile\u001b[39;00m q:\n\u001b[1;32m     45\u001b[0m     node \u001b[39m=\u001b[39m q\u001b[39m.\u001b[39mpopleft()\n\u001b[0;32m---> 46\u001b[0m     max_l, min_r \u001b[39m=\u001b[39m find_max(node\u001b[39m.\u001b[39mleft), find_min(node\u001b[39m.\u001b[39;49mright)\n\u001b[1;32m     47\u001b[0m     is_valid \u001b[39m=\u001b[39m max_l \u001b[39m<\u001b[39m\u001b[39m=\u001b[39m node\u001b[39m.\u001b[39mvalue \u001b[39mand\u001b[39;00m min_r \u001b[39m>\u001b[39m node\u001b[39m.\u001b[39mvalue\n\u001b[1;32m     48\u001b[0m     \u001b[39mprint\u001b[39m(\u001b[39mf\u001b[39m\u001b[39m\"\u001b[39m\u001b[39m{\u001b[39;00mnode\u001b[39m \u001b[39m\u001b[39m= }\u001b[39;00m\u001b[39m, \u001b[39m\u001b[39m{\u001b[39;00mmax_l\u001b[39m \u001b[39m\u001b[39m= }\u001b[39;00m\u001b[39m, \u001b[39m\u001b[39m{\u001b[39;00mmin_r\u001b[39m \u001b[39m\u001b[39m= }\u001b[39;00m\u001b[39m, \u001b[39m\u001b[39m{\u001b[39;00mis_valid\u001b[39m \u001b[39m\u001b[39m= }\u001b[39;00m\u001b[39m\"\u001b[39m)\n",
      "Cell \u001b[0;32mIn[19], line 10\u001b[0m, in \u001b[0;36mfind_min\u001b[0;34m(root)\u001b[0m\n\u001b[1;32m      8\u001b[0m \u001b[39mwhile\u001b[39;00m q:\n\u001b[1;32m      9\u001b[0m     node \u001b[39m=\u001b[39m q\u001b[39m.\u001b[39mpopleft()\n\u001b[0;32m---> 10\u001b[0m     min_ \u001b[39m=\u001b[39m \u001b[39mmin\u001b[39m(node\u001b[39m.\u001b[39;49mvalue, min_)\n\u001b[1;32m     11\u001b[0m     \u001b[39mif\u001b[39;00m node\u001b[39m.\u001b[39mleft:\n\u001b[1;32m     12\u001b[0m         q\u001b[39m.\u001b[39mappend(node\u001b[39m.\u001b[39mleft)\n",
      "\u001b[0;31mAttributeError\u001b[0m: 'NoneType' object has no attribute 'value'"
     ]
    }
   ],
   "source": [
    "from collections import deque\n",
    "\n",
    "\n",
    "def find_min(root: Node) -> tuple[int, int]:\n",
    "    \"\"\"Finds the minimum value in the tree under root (including root).\"\"\"\n",
    "    q = deque([root])\n",
    "    min_ = float(\"inf\")\n",
    "    while q:\n",
    "        node = q.popleft()\n",
    "        min_ = min(node.value, min_)\n",
    "        if node.left:\n",
    "            q.append(node.left)\n",
    "        if node.right:\n",
    "            q.append(node.right)\n",
    "    return min_\n",
    "\n",
    "def find_max(root: Node) -> tuple[int, int]:\n",
    "    \"\"\"Finds the maximum value in the tree under root (including root).\"\"\"\n",
    "    q = deque([root])\n",
    "    max_ = float(\"-inf\")\n",
    "    while q:\n",
    "        node = q.popleft()\n",
    "        max_ = min(node.value, max_)\n",
    "        if node.left:\n",
    "            q.append(node.left)\n",
    "        if node.right:\n",
    "            q.append(node.right)\n",
    "    return max_\n",
    "\n",
    "def validate_BST(root: Node) -> tuple[bool, int, int]:\n",
    "    \"\"\"Validates if the tree under root is a binary search tree (BST).\n",
    "    Args:\n",
    "        root: a Node.\n",
    "    Returns:\n",
    "        A 3-tuple of (is_valid, min, max), where is_valid is True if the\n",
    "        tree under root is a valid BST, and min/max are the minimum and\n",
    "        maximum value observed in the whole tree.\n",
    "    \"\"\"\n",
    "    q = deque([root])\n",
    "    #\n",
    "    #\n",
    "    # SEGUIR, DEBUGUEAR\n",
    "    #\n",
    "    while q:\n",
    "        node = q.popleft()\n",
    "        max_l, min_r = find_max(node.left), find_min(node.right)\n",
    "        is_valid = max_l <= node.value and min_r > node.value\n",
    "        print(f\"{node = }, {max_l = }, {min_r = }, {is_valid = }\")\n",
    "        if not is_valid:  # If any subtree is invalid, the whole tree is not a BST\n",
    "            return False\n",
    "        if node.left:\n",
    "            q.append(node.left)\n",
    "        if node.right:\n",
    "            q.append(node.right)\n",
    "    return True\n",
    "\n",
    "validate_BST(root_bst)"
   ]
  },
  {
   "cell_type": "code",
   "execution_count": null,
   "metadata": {},
   "outputs": [],
   "source": []
  },
  {
   "cell_type": "code",
   "execution_count": null,
   "metadata": {},
   "outputs": [],
   "source": []
  },
  {
   "cell_type": "code",
   "execution_count": null,
   "metadata": {},
   "outputs": [],
   "source": []
  },
  {
   "cell_type": "code",
   "execution_count": null,
   "metadata": {},
   "outputs": [],
   "source": []
  },
  {
   "cell_type": "code",
   "execution_count": null,
   "metadata": {},
   "outputs": [],
   "source": []
  },
  {
   "cell_type": "code",
   "execution_count": null,
   "metadata": {},
   "outputs": [],
   "source": []
  },
  {
   "cell_type": "code",
   "execution_count": null,
   "metadata": {},
   "outputs": [],
   "source": []
  },
  {
   "cell_type": "code",
   "execution_count": null,
   "metadata": {},
   "outputs": [],
   "source": []
  },
  {
   "cell_type": "code",
   "execution_count": null,
   "metadata": {},
   "outputs": [],
   "source": []
  },
  {
   "cell_type": "code",
   "execution_count": null,
   "metadata": {},
   "outputs": [],
   "source": []
  }
 ],
 "metadata": {
  "kernelspec": {
   "display_name": "py311",
   "language": "python",
   "name": "python3"
  },
  "language_info": {
   "codemirror_mode": {
    "name": "ipython",
    "version": 3
   },
   "file_extension": ".py",
   "mimetype": "text/x-python",
   "name": "python",
   "nbconvert_exporter": "python",
   "pygments_lexer": "ipython3",
   "version": "3.11.3"
  },
  "orig_nbformat": 4
 },
 "nbformat": 4,
 "nbformat_minor": 2
}
