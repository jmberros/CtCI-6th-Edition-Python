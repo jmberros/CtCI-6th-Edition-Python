{
 "cells": [
  {
   "cell_type": "markdown",
   "metadata": {},
   "source": [
    "Build Order: You are given a list of projects and a list of dependencies (which is a list of pairs of\n",
    "projects, where the second project is dependent on the first project). All of a project's dependencies\n",
    "must be built before the project is.\n",
    "- Find a build order that will allow the projects to be built.\n",
    "- If there is no valid build order, return an error.\n",
    "\n",
    "```\n",
    "EXAMPLE\n",
    "\n",
    "Input:\n",
    "\n",
    "projects: a, b, c, d, e, f\n",
    "dependencies: (a, d), (f, b), (b, d), (f, a), (d, c)\n",
    "\n",
    "Output: f, e, a, b, d, c\n",
    "```"
   ]
  },
  {
   "cell_type": "code",
   "execution_count": 11,
   "metadata": {},
   "outputs": [
    {
     "name": "stdout",
     "output_type": "stream",
     "text": [
      "Parents: {'a': ['f'], 'b': ['f'], 'c': ['d'], 'd': ['a', 'b'], 'e': [], 'f': []}\n",
      "Children: {'a': ['d'], 'b': ['d'], 'c': [], 'd': ['c'], 'e': [], 'f': ['b', 'a']}\n",
      "- Building e\n",
      "- Building f\n",
      "built_projects = {'f', 'e'}\n"
     ]
    }
   ],
   "source": [
    "# Armar el grafo (DAG) -- puede no estar conectado!\n",
    "# Encontrar nodos sin padres y comenzar por ellos.\n",
    "\n",
    "projects = list(\"abcdef\")\n",
    "deps_ = [(\"a\", \"d\"), (\"f\", \"b\"), (\"b\", \"d\"), (\"f\", \"a\"), (\"d\", \"c\")]\n",
    "\n",
    "children = {project: [] for project in projects}\n",
    "dependencies = {project: [] for project in projects}\n",
    "\n",
    "for parent, child in deps_:\n",
    "    children[parent].append(child)\n",
    "    dependencies[child].append(parent)\n",
    "\n",
    "print(f\"Parents: {dependencies}\")\n",
    "print(f\"Children: {children}\")\n",
    "\n",
    "build_order = []\n",
    "\n",
    "# Find projects with no dependencies\n",
    "for proj in projects:\n",
    "    if dependencies[proj]:\n",
    "        continue\n",
    "\n",
    "    build_order.append(proj)\n",
    "    for _, proj_deps in dependencies.:\n",
    "        if ### ME QUEME SEGUIR\n",
    "\n"
   ]
  },
  {
   "cell_type": "code",
   "execution_count": null,
   "metadata": {},
   "outputs": [],
   "source": []
  },
  {
   "cell_type": "code",
   "execution_count": null,
   "metadata": {},
   "outputs": [],
   "source": []
  },
  {
   "cell_type": "code",
   "execution_count": null,
   "metadata": {},
   "outputs": [],
   "source": []
  },
  {
   "cell_type": "code",
   "execution_count": null,
   "metadata": {},
   "outputs": [],
   "source": []
  },
  {
   "cell_type": "code",
   "execution_count": null,
   "metadata": {},
   "outputs": [],
   "source": []
  },
  {
   "cell_type": "code",
   "execution_count": null,
   "metadata": {},
   "outputs": [],
   "source": []
  },
  {
   "cell_type": "code",
   "execution_count": null,
   "metadata": {},
   "outputs": [],
   "source": []
  }
 ],
 "metadata": {
  "kernelspec": {
   "display_name": "py311",
   "language": "python",
   "name": "python3"
  },
  "language_info": {
   "codemirror_mode": {
    "name": "ipython",
    "version": 3
   },
   "file_extension": ".py",
   "mimetype": "text/x-python",
   "name": "python",
   "nbconvert_exporter": "python",
   "pygments_lexer": "ipython3",
   "version": "3.11.3"
  },
  "orig_nbformat": 4
 },
 "nbformat": 4,
 "nbformat_minor": 2
}
