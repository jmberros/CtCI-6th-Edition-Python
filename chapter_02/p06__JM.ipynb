{
 "cells": [
  {
   "cell_type": "markdown",
   "metadata": {},
   "source": [
    "# Palindrome:\n",
    " \n",
    "Implement a function to check if a linked list is a palindrome.\n",
    "Hints:#5, #13, #29, #61, #101"
   ]
  },
  {
   "cell_type": "code",
   "execution_count": 1,
   "metadata": {},
   "outputs": [],
   "source": [
    "from linked_list_JM import LinkedList as LL, LinkedListNode as LLN"
   ]
  },
  {
   "cell_type": "code",
   "execution_count": 2,
   "metadata": {},
   "outputs": [],
   "source": [
    "TEST_CASES = [\n",
    "    (LL(1, 2, 3, 4), False),\n",
    "    (LL(1, 2, 3, 2, 1), True),\n",
    "    (LL(1, 2, 3, 3, 2, 1), True),\n",
    "    (LL(), True),\n",
    "    (LL(1), True),\n",
    "]"
   ]
  },
  {
   "cell_type": "code",
   "execution_count": 4,
   "metadata": {},
   "outputs": [
    {
     "name": "stdout",
     "output_type": "stream",
     "text": [
      "LinkedList(0::1::2::3::4::5::6::1::1::6::5::4::3::2::1::0)\n"
     ]
    },
    {
     "data": {
      "text/plain": [
       "True"
      ]
     },
     "execution_count": 4,
     "metadata": {},
     "output_type": "execute_result"
    }
   ],
   "source": [
    "# We use two pointers. One begins at the head, one at the tail.\n",
    "# At each step, we check if the values are ==. If yes, we continue.\n",
    "# At each step, we advance towards the center.\n",
    "#\n",
    "# Cases:\n",
    "# 1) Even number of nodes. The pointers will cross paths, but they won't land on the same node at the same time.\n",
    "# 2) Odd number of nodes. The pointers will land in the middle node eventually.\n",
    "#\n",
    "# Special cases:\n",
    "# - Empty list. It's a palindrome.\n",
    "# - One-item list. It's a palindrome.\n",
    "\n",
    "def is_palindrome(ll: LL) -> bool:  # O(1) space, O(N) time\n",
    "    # TODO: Docstring\n",
    "\n",
    "    if ll.is_empty() or ll.one_item_list():\n",
    "        return True\n",
    "\n",
    "    pointer_fwd = ll.head\n",
    "    pointer_bkw = ll.tail\n",
    "\n",
    "    while True:\n",
    "        if pointer_fwd.value != pointer_bkw.value:\n",
    "            return False\n",
    "\n",
    "        if pointer_fwd.next == pointer_bkw:\n",
    "            assert pointer_bkw.prev == pointer_fwd\n",
    "            break\n",
    "\n",
    "        pointer_fwd = pointer_fwd.next\n",
    "        pointer_bkw = pointer_bkw.prev\n",
    "\n",
    "    return True\n",
    "\n",
    "\n",
    "l = list(range(7))\n",
    "ll = LL(l + [1, 1] + list(reversed(l)))\n",
    "print(ll)\n",
    "is_palindrome(ll)"
   ]
  },
  {
   "cell_type": "code",
   "execution_count": null,
   "metadata": {},
   "outputs": [],
   "source": []
  },
  {
   "cell_type": "code",
   "execution_count": null,
   "metadata": {},
   "outputs": [],
   "source": []
  },
  {
   "cell_type": "code",
   "execution_count": null,
   "metadata": {},
   "outputs": [],
   "source": []
  },
  {
   "cell_type": "code",
   "execution_count": null,
   "metadata": {},
   "outputs": [],
   "source": []
  },
  {
   "cell_type": "code",
   "execution_count": null,
   "metadata": {},
   "outputs": [],
   "source": []
  }
 ],
 "metadata": {
  "kernelspec": {
   "display_name": "py311",
   "language": "python",
   "name": "python3"
  },
  "language_info": {
   "codemirror_mode": {
    "name": "ipython",
    "version": 3
   },
   "file_extension": ".py",
   "mimetype": "text/x-python",
   "name": "python",
   "nbconvert_exporter": "python",
   "pygments_lexer": "ipython3",
   "version": "3.11.3"
  },
  "orig_nbformat": 4
 },
 "nbformat": 4,
 "nbformat_minor": 2
}
