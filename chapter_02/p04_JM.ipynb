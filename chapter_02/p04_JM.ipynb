{
 "cells": [
  {
   "cell_type": "markdown",
   "metadata": {},
   "source": [
    "Partition: Write code to partition a linked list around a value x, such that all nodes less than x come\n",
    "before all nodes greater than or equal to x. If x is contained within the list, the values of x only need\n",
    "to be after the elements less than x (see below). The partition element x can appear anywhere in the\n",
    "\"right partition\"; it does not need to appear between the left and right partitions.\n",
    "\n",
    "EXAMPLE\n",
    "\n",
    "Input: `3 -> 5 -> 8 -> 5 -> 10 -> 2 -> 1 [partition= 5]`\n",
    "\n",
    "Output: `3 -> 1 -> 2 -> 10 -> 5 -> 5 -> 8`"
   ]
  },
  {
   "cell_type": "code",
   "execution_count": 1,
   "metadata": {},
   "outputs": [],
   "source": [
    "from linked_list_JM import LinkedList, LinkedListNode"
   ]
  },
  {
   "cell_type": "markdown",
   "metadata": {},
   "source": [
    "### Create 2 lists and merging them afterwards"
   ]
  },
  {
   "cell_type": "code",
   "execution_count": 7,
   "metadata": {},
   "outputs": [],
   "source": [
    "LL_TEST = LinkedList([3, 5, 8, 5, 10, 2, 1])"
   ]
  },
  {
   "cell_type": "code",
   "execution_count": 12,
   "metadata": {},
   "outputs": [
    {
     "name": "stdout",
     "output_type": "stream",
     "text": [
      "LinkedList(1-10-2-20-3-30-4-40-5-50)\n",
      "left = LinkedList(3), right = LinkedList()\n",
      "left = LinkedList(3), right = LinkedList(5)\n",
      "left = LinkedList(3), right = LinkedList(5-8)\n",
      "left = LinkedList(3), right = LinkedList(5-8-5)\n",
      "left = LinkedList(3), right = LinkedList(5-8-5-10)\n",
      "left = LinkedList(3-2), right = LinkedList(5-8-5-10)\n",
      "left = LinkedList(3-2-1), right = LinkedList(5-8-5-10)\n"
     ]
    },
    {
     "data": {
      "text/plain": [
       "LinkedList(3-2-1-5-8-5-10)"
      ]
     },
     "execution_count": 12,
     "metadata": {},
     "output_type": "execute_result"
    }
   ],
   "source": [
    "def partition_1(ll: LinkedList, partition_value: int):\n",
    "\n",
    "    left = LinkedList()\n",
    "    right = LinkedList()\n",
    "\n",
    "    for node in ll:\n",
    "        if node.value < partition_value:\n",
    "            left.add(node.value)\n",
    "        else:\n",
    "            right.add(node.value)\n",
    "\n",
    "        print(f\"{left = }, {right = }\")\n",
    "\n",
    "    return LinkedList(list(left) + list(right))\n",
    "\n",
    "ll = LinkedList([1, 10, 2, 20, 3, 30, 4, 40, 5, 50])\n",
    "print(ll)\n",
    "partition_1(LL_TEST, 5)"
   ]
  },
  {
   "cell_type": "markdown",
   "metadata": {},
   "source": [
    "### "
   ]
  },
  {
   "cell_type": "code",
   "execution_count": null,
   "metadata": {},
   "outputs": [],
   "source": []
  },
  {
   "cell_type": "code",
   "execution_count": null,
   "metadata": {},
   "outputs": [],
   "source": []
  },
  {
   "cell_type": "code",
   "execution_count": null,
   "metadata": {},
   "outputs": [],
   "source": []
  },
  {
   "cell_type": "code",
   "execution_count": null,
   "metadata": {},
   "outputs": [],
   "source": []
  },
  {
   "cell_type": "code",
   "execution_count": null,
   "metadata": {},
   "outputs": [],
   "source": []
  },
  {
   "cell_type": "code",
   "execution_count": null,
   "metadata": {},
   "outputs": [],
   "source": []
  }
 ],
 "metadata": {
  "kernelspec": {
   "display_name": "py311",
   "language": "python",
   "name": "python3"
  },
  "language_info": {
   "codemirror_mode": {
    "name": "ipython",
    "version": 3
   },
   "file_extension": ".py",
   "mimetype": "text/x-python",
   "name": "python",
   "nbconvert_exporter": "python",
   "pygments_lexer": "ipython3",
   "version": "3.11.3"
  },
  "orig_nbformat": 4
 },
 "nbformat": 4,
 "nbformat_minor": 2
}
